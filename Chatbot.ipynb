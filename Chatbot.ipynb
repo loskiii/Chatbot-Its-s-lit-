{
 "cells": [
  {
   "cell_type": "code",
   "execution_count": 7,
   "metadata": {},
   "outputs": [
    {
     "name": "stdout",
     "output_type": "stream",
     "text": [
      "welcome, am chatbot,ask me anything.Type quit to quit\n",
      "Am doing good,How can I help you\n",
      "The weather in  westlands is warm\n",
      "Thank you,see you again\n"
     ]
    }
   ],
   "source": [
    "# Chatbot interacts with human using natural language\n",
    "# NLTK - A pythom toolkit for natural languages\n",
    "import nltk\n",
    "from nltk.chat.util import Chat, reflections\n",
    "\n",
    "# We deal with pairs - a pair consists of user input, bot response\n",
    "pairs = [\n",
    "          \n",
    "           [\n",
    "               r\"hi|hey|hello|rada\",\n",
    "               [\"Am doing good,How can I help you\", \"Hello, how can I be of help\", \"Safi, rada mkuu,unadai aje?\"]\n",
    "           ],\n",
    "           [\n",
    "               r\"What is your name?\",\n",
    "               [\"My name is  chatbot, I like chatting\", \"Am chatbot, glad to see you\"]\n",
    "           ],\n",
    "           [\n",
    "               r\"Where do you live?\",\n",
    "               [\"I live in a computer\", \"I am a program\"]\n",
    "           ],\n",
    "\n",
    "           [\n",
    "               r\"What is your hobby?\",\n",
    "               [\"Helping people\", \"Eating\"]\n",
    "           ],\n",
    "           [\n",
    "               r\"quit\",\n",
    "               [\"Thank you,see you again\", \"Good bye for now\"]\n",
    "           ],\n",
    "           [\n",
    "               r\"(.*) politics\",\n",
    "               [\"Sometimes\", \"No am not a fun of politics\", \"No,not interested\"]\n",
    "           ],\n",
    "           [\n",
    "                r\"(.*) politics (.*)\",\n",
    "               [\"Sometimes\", \"No am not a fun of politics\", \"No,not interested\"]\n",
    "           ],\n",
    "           [\n",
    "                r\"(.*) (pay|payments|payment|bill|billing|charge|charging)\",\n",
    "               [\"Our services go as low as 5000 check more on http://website.com\"]\n",
    "           ],\n",
    "           [\n",
    "               r\"(.*) (pay|payments|payment|bill|billing|charge|charging)(.*)\",\n",
    "               [\"Our services go as low as 5000 check more on http://website.com\"]\n",
    "           ],\n",
    "           [\n",
    "               r\"How is weather in(.*)\",\n",
    "               [\"The weather in %1 is warm\", \"It is cold in %1\"]\n",
    "           ]\n",
    "                   \n",
    "]\n",
    "# Lets start our bot\n",
    "x = Chat(pairs, reflections)\n",
    "print(\"welcome, am chatbot,ask me anything.Type quit to quit\")\n",
    "x.converse()  #Start your chatbot \n"
   ]
  }
 ],
 "metadata": {
  "interpreter": {
   "hash": "31f2aee4e71d21fbe5cf8b01ff0e069b9275f58929596ceb00d14d90e3e16cd6"
  },
  "kernelspec": {
   "display_name": "Python 3.6.8 64-bit",
   "language": "python",
   "name": "python3"
  },
  "language_info": {
   "codemirror_mode": {
    "name": "ipython",
    "version": 3
   },
   "file_extension": ".py",
   "mimetype": "text/x-python",
   "name": "python",
   "nbconvert_exporter": "python",
   "pygments_lexer": "ipython3",
   "version": "3.6.8"
  },
  "orig_nbformat": 4
 },
 "nbformat": 4,
 "nbformat_minor": 2
}
